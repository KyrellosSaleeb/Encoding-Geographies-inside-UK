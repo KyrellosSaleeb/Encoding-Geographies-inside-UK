{
 "cells": [
  {
   "cell_type": "code",
   "execution_count": 1,
   "id": "48605b6e",
   "metadata": {},
   "outputs": [],
   "source": [
    "import pandas as pd\n",
    "import numpy as np\n",
    "import matplotlib.pyplot as plt\n",
    "import seaborn as sns\n",
    "import csv\n",
    "from matplotlib.ticker import FuncFormatter"
   ]
  },
  {
   "cell_type": "code",
   "execution_count": 2,
   "id": "594aad1c",
   "metadata": {},
   "outputs": [],
   "source": [
    "FilePath = \"addresses.csv\""
   ]
  },
  {
   "cell_type": "code",
   "execution_count": 3,
   "id": "820286f9",
   "metadata": {},
   "outputs": [],
   "source": [
    "dataframe = pd.read_csv(FilePath)"
   ]
  },
  {
   "cell_type": "code",
   "execution_count": 4,
   "id": "9082d64c",
   "metadata": {},
   "outputs": [
    {
     "name": "stdout",
     "output_type": "stream",
     "text": [
      "<class 'pandas.core.frame.DataFrame'>\n",
      "RangeIndex: 100000 entries, 0 to 99999\n",
      "Data columns (total 3 columns):\n",
      " #   Column       Non-Null Count   Dtype \n",
      "---  ------       --------------   ----- \n",
      " 0   company_id   100000 non-null  int64 \n",
      " 1   address      99032 non-null   object\n",
      " 2   total_spend  100000 non-null  int64 \n",
      "dtypes: int64(2), object(1)\n",
      "memory usage: 2.3+ MB\n",
      "None\n"
     ]
    }
   ],
   "source": [
    "print(dataframe.info())"
   ]
  },
  {
   "cell_type": "code",
   "execution_count": 5,
   "id": "9f0ef3cf",
   "metadata": {},
   "outputs": [
    {
     "name": "stdout",
     "output_type": "stream",
     "text": [
      "   company_id                                            address  total_spend\n",
      "0           1  APARTMENT 2,\\n52 BEDFORD ROAD,\\nLONDON,\\nENGLA...         5700\n",
      "1           2           107 SHERINGHAM AVENUE,\\nLONDON,\\nN14 4UJ         4700\n",
      "2           3  43 SUNNINGDALE,\\nYATE,\\nBRISTOL,\\nENGLAND,\\nBS...         5900\n",
      "3           4  HAWESWATER HOUSE,\\nLINGLEY MERE BUSINESS PARK,...         7200\n",
      "4           5  AMBERFIELD BARN HOUSE AMBER LANE,\\nCHART SUTTO...         4600\n"
     ]
    }
   ],
   "source": [
    "print(dataframe.head())"
   ]
  },
  {
   "cell_type": "code",
   "execution_count": 6,
   "id": "90286760",
   "metadata": {},
   "outputs": [
    {
     "name": "stdout",
     "output_type": "stream",
     "text": [
      "          company_id    total_spend\n",
      "count  100000.000000  100000.000000\n",
      "mean    50000.500000    4951.662000\n",
      "std     28867.657797    1500.983866\n",
      "min         1.000000       0.000000\n",
      "25%     25000.750000    3900.000000\n",
      "50%     50000.500000    5000.000000\n",
      "75%     75000.250000    6000.000000\n",
      "max    100000.000000   11700.000000\n"
     ]
    }
   ],
   "source": [
    "print(dataframe.describe())"
   ]
  },
  {
   "cell_type": "code",
   "execution_count": 7,
   "id": "e2c482cc",
   "metadata": {},
   "outputs": [
    {
     "name": "stdout",
     "output_type": "stream",
     "text": [
      "company_id       0\n",
      "address        968\n",
      "total_spend      0\n",
      "dtype: int64\n"
     ]
    }
   ],
   "source": [
    "print(dataframe.isnull().sum())"
   ]
  },
  {
   "cell_type": "code",
   "execution_count": 8,
   "id": "8962947d",
   "metadata": {},
   "outputs": [],
   "source": [
    "dataframe = dataframe.dropna()"
   ]
  },
  {
   "cell_type": "code",
   "execution_count": 9,
   "id": "5a4a1e8f",
   "metadata": {},
   "outputs": [
    {
     "name": "stdout",
     "output_type": "stream",
     "text": [
      "company_id     0\n",
      "address        0\n",
      "total_spend    0\n",
      "dtype: int64\n"
     ]
    }
   ],
   "source": [
    "print(dataframe.isnull().sum())"
   ]
  },
  {
   "cell_type": "code",
   "execution_count": 10,
   "id": "b86d6259",
   "metadata": {},
   "outputs": [
    {
     "name": "stdout",
     "output_type": "stream",
     "text": [
      "<class 'pandas.core.frame.DataFrame'>\n",
      "Int64Index: 99032 entries, 0 to 99999\n",
      "Data columns (total 3 columns):\n",
      " #   Column       Non-Null Count  Dtype \n",
      "---  ------       --------------  ----- \n",
      " 0   company_id   99032 non-null  int64 \n",
      " 1   address      99032 non-null  object\n",
      " 2   total_spend  99032 non-null  int64 \n",
      "dtypes: int64(2), object(1)\n",
      "memory usage: 3.0+ MB\n",
      "None\n"
     ]
    }
   ],
   "source": [
    "print(dataframe.info())"
   ]
  },
  {
   "cell_type": "code",
   "execution_count": 11,
   "id": "584b8022",
   "metadata": {},
   "outputs": [
    {
     "name": "stdout",
     "output_type": "stream",
     "text": [
      "0        False\n",
      "1        False\n",
      "2        False\n",
      "3        False\n",
      "4        False\n",
      "         ...  \n",
      "99995    False\n",
      "99996    False\n",
      "99997    False\n",
      "99998    False\n",
      "99999    False\n",
      "Length: 99032, dtype: bool\n"
     ]
    }
   ],
   "source": [
    "print(dataframe.duplicated())"
   ]
  },
  {
   "cell_type": "code",
   "execution_count": 12,
   "id": "73b0a696",
   "metadata": {},
   "outputs": [],
   "source": [
    "dataframe = dataframe.drop_duplicates()"
   ]
  },
  {
   "cell_type": "code",
   "execution_count": 13,
   "id": "1b28d53b",
   "metadata": {},
   "outputs": [
    {
     "name": "stdout",
     "output_type": "stream",
     "text": [
      "<class 'pandas.core.frame.DataFrame'>\n",
      "Int64Index: 99032 entries, 0 to 99999\n",
      "Data columns (total 3 columns):\n",
      " #   Column       Non-Null Count  Dtype \n",
      "---  ------       --------------  ----- \n",
      " 0   company_id   99032 non-null  int64 \n",
      " 1   address      99032 non-null  object\n",
      " 2   total_spend  99032 non-null  int64 \n",
      "dtypes: int64(2), object(1)\n",
      "memory usage: 3.0+ MB\n",
      "None\n"
     ]
    }
   ],
   "source": [
    "print(dataframe.info())"
   ]
  },
  {
   "cell_type": "code",
   "execution_count": 14,
   "id": "fb3a14bb",
   "metadata": {},
   "outputs": [
    {
     "name": "stdout",
     "output_type": "stream",
     "text": [
      "count    99032.000000\n",
      "mean      4951.673197\n",
      "std       1500.642398\n",
      "min          0.000000\n",
      "25%       3900.000000\n",
      "50%       5000.000000\n",
      "75%       6000.000000\n",
      "max      11700.000000\n",
      "Name: total_spend, dtype: float64\n"
     ]
    }
   ],
   "source": [
    "print(dataframe['total_spend'].describe())"
   ]
  },
  {
   "cell_type": "code",
   "execution_count": 15,
   "id": "4a911309",
   "metadata": {
    "scrolled": false
   },
   "outputs": [
    {
     "name": "stdout",
     "output_type": "stream",
     "text": [
      "APARTMENT 2,\n",
      "52 BEDFORD ROAD,\n",
      "LONDON,\n",
      "ENGLAND,\n",
      "SW4 7HJ \n",
      "\n",
      "107 SHERINGHAM AVENUE,\n",
      "LONDON,\n",
      "N14 4UJ \n",
      "\n",
      "43 SUNNINGDALE,\n",
      "YATE,\n",
      "BRISTOL,\n",
      "ENGLAND,\n",
      "BS37 4HZ \n",
      "\n",
      "HAWESWATER HOUSE,\n",
      "LINGLEY MERE BUSINESS PARK,\n",
      "LINGLEY GREEN AVENUE,\n",
      "GREAT SANKEY, WARRINGTON,\n",
      "WA5 3LP \n",
      "\n",
      "AMBERFIELD BARN HOUSE AMBER LANE,\n",
      "CHART SUTTON,\n",
      "MAIDSTONE,\n",
      "ENGLAND,\n",
      "ME17 3SF \n",
      "\n"
     ]
    }
   ],
   "source": [
    "for address in dataframe['address'].head():\n",
    "    print(address,\"\\n\")"
   ]
  },
  {
   "cell_type": "code",
   "execution_count": 16,
   "id": "7f25616e",
   "metadata": {},
   "outputs": [],
   "source": [
    "dataframe['new_address'] = dataframe[\"address\"].str.upper()"
   ]
  },
  {
   "cell_type": "code",
   "execution_count": 17,
   "id": "add23036",
   "metadata": {},
   "outputs": [
    {
     "name": "stdout",
     "output_type": "stream",
     "text": [
      "0    APARTMENT 2,\\n52 BEDFORD ROAD,\\nLONDON,\\nENGLA...\n",
      "1             107 SHERINGHAM AVENUE,\\nLONDON,\\nN14 4UJ\n",
      "2    43 SUNNINGDALE,\\nYATE,\\nBRISTOL,\\nENGLAND,\\nBS...\n",
      "3    HAWESWATER HOUSE,\\nLINGLEY MERE BUSINESS PARK,...\n",
      "4    AMBERFIELD BARN HOUSE AMBER LANE,\\nCHART SUTTO...\n",
      "Name: new_address, dtype: object\n"
     ]
    }
   ],
   "source": [
    "print(dataframe['new_address'].head())"
   ]
  },
  {
   "cell_type": "code",
   "execution_count": 18,
   "id": "2552cff4",
   "metadata": {},
   "outputs": [
    {
     "name": "stdout",
     "output_type": "stream",
     "text": [
      "20831\n",
      "21768\n"
     ]
    }
   ],
   "source": [
    "print(len(dataframe[dataframe['new_address'].str.contains(\"LONDON,\")]))\n",
    "print(len(dataframe[dataframe['new_address'].str.contains(\"LONDON\")]))"
   ]
  },
  {
   "cell_type": "code",
   "execution_count": 19,
   "id": "684420dc",
   "metadata": {},
   "outputs": [],
   "source": [
    "cities = pd.read_csv(\"cities.csv\", header = None, names=[\"city\"])"
   ]
  },
  {
   "cell_type": "code",
   "execution_count": 20,
   "id": "56c4a5ab",
   "metadata": {},
   "outputs": [
    {
     "name": "stdout",
     "output_type": "stream",
     "text": [
      "              city\n",
      "0          England\n",
      "1             Bath\n",
      "2      Birmingham*\n",
      "3        Bradford*\n",
      "4  Brighton & Hove\n",
      "80\n"
     ]
    }
   ],
   "source": [
    "print(cities.head())\n",
    "print(len(cities))"
   ]
  },
  {
   "cell_type": "code",
   "execution_count": 21,
   "id": "ec74f19f",
   "metadata": {},
   "outputs": [
    {
     "name": "stdout",
     "output_type": "stream",
     "text": [
      "76\n"
     ]
    }
   ],
   "source": [
    "countries_to_remove = [\"England\", \"Scotland\", \"Wales\", \"Northern Ireland\"]\n",
    "cities_to_remove = cities[cities[\"city\"].isin(countries_to_remove)].index\n",
    "cities = cities.drop(index=cities_to_remove)\n",
    "print(len(cities))"
   ]
  },
  {
   "cell_type": "code",
   "execution_count": 22,
   "id": "60b0f043",
   "metadata": {},
   "outputs": [
    {
     "name": "stdout",
     "output_type": "stream",
     "text": [
      "          city\n",
      "count       76\n",
      "unique      75\n",
      "top     Bangor\n",
      "freq         2\n"
     ]
    }
   ],
   "source": [
    "print(cities.describe())"
   ]
  },
  {
   "cell_type": "code",
   "execution_count": 23,
   "id": "46af5833",
   "metadata": {},
   "outputs": [
    {
     "name": "stdout",
     "output_type": "stream",
     "text": [
      "<class 'pandas.core.frame.DataFrame'>\n",
      "Int64Index: 76 entries, 1 to 79\n",
      "Data columns (total 1 columns):\n",
      " #   Column  Non-Null Count  Dtype \n",
      "---  ------  --------------  ----- \n",
      " 0   city    76 non-null     object\n",
      "dtypes: object(1)\n",
      "memory usage: 1.2+ KB\n",
      "None\n"
     ]
    }
   ],
   "source": [
    "print(cities.info())"
   ]
  },
  {
   "cell_type": "code",
   "execution_count": 24,
   "id": "79dda9c7",
   "metadata": {},
   "outputs": [],
   "source": [
    "cities[\"city\"] = cities[\"city\"].str.replace(\"*\", \"\", regex=False)"
   ]
  },
  {
   "cell_type": "code",
   "execution_count": 25,
   "id": "24ab6b69",
   "metadata": {},
   "outputs": [],
   "source": [
    "cities[\"city\"] = cities[\"city\"].str.upper()"
   ]
  },
  {
   "cell_type": "code",
   "execution_count": 26,
   "id": "ee460d08",
   "metadata": {},
   "outputs": [
    {
     "name": "stdout",
     "output_type": "stream",
     "text": [
      "              city\n",
      "1             BATH\n",
      "2       BIRMINGHAM\n",
      "3         BRADFORD\n",
      "4  BRIGHTON & HOVE\n",
      "5          BRISTOL\n",
      "76\n"
     ]
    }
   ],
   "source": [
    "print(cities.head())\n",
    "print(len(cities))"
   ]
  },
  {
   "cell_type": "code",
   "execution_count": 27,
   "id": "e0cc3ad6",
   "metadata": {},
   "outputs": [],
   "source": [
    "for city in cities[\"city\"].values:\n",
    "    dataframe.loc[dataframe[\"new_address\"].str.contains(f\"\\n{city},\"),\"city\"]=city"
   ]
  },
  {
   "cell_type": "code",
   "execution_count": 28,
   "id": "bdc8d81f",
   "metadata": {},
   "outputs": [
    {
     "name": "stdout",
     "output_type": "stream",
     "text": [
      "<class 'pandas.core.frame.DataFrame'>\n",
      "Int64Index: 99032 entries, 0 to 99999\n",
      "Data columns (total 5 columns):\n",
      " #   Column       Non-Null Count  Dtype \n",
      "---  ------       --------------  ----- \n",
      " 0   company_id   99032 non-null  int64 \n",
      " 1   address      99032 non-null  object\n",
      " 2   total_spend  99032 non-null  int64 \n",
      " 3   new_address  99032 non-null  object\n",
      " 4   city         44574 non-null  object\n",
      "dtypes: int64(2), object(3)\n",
      "memory usage: 4.5+ MB\n",
      "None\n"
     ]
    }
   ],
   "source": [
    "print(dataframe.info())"
   ]
  },
  {
   "cell_type": "code",
   "execution_count": 29,
   "id": "52d51de5",
   "metadata": {},
   "outputs": [
    {
     "name": "stdout",
     "output_type": "stream",
     "text": [
      "   company_id                                            address  total_spend  \\\n",
      "0           1  APARTMENT 2,\\n52 BEDFORD ROAD,\\nLONDON,\\nENGLA...         5700   \n",
      "1           2           107 SHERINGHAM AVENUE,\\nLONDON,\\nN14 4UJ         4700   \n",
      "2           3  43 SUNNINGDALE,\\nYATE,\\nBRISTOL,\\nENGLAND,\\nBS...         5900   \n",
      "3           4  HAWESWATER HOUSE,\\nLINGLEY MERE BUSINESS PARK,...         7200   \n",
      "4           5  AMBERFIELD BARN HOUSE AMBER LANE,\\nCHART SUTTO...         4600   \n",
      "\n",
      "                                         new_address     city  \n",
      "0  APARTMENT 2,\\n52 BEDFORD ROAD,\\nLONDON,\\nENGLA...   LONDON  \n",
      "1           107 SHERINGHAM AVENUE,\\nLONDON,\\nN14 4UJ   LONDON  \n",
      "2  43 SUNNINGDALE,\\nYATE,\\nBRISTOL,\\nENGLAND,\\nBS...  BRISTOL  \n",
      "3  HAWESWATER HOUSE,\\nLINGLEY MERE BUSINESS PARK,...      NaN  \n",
      "4  AMBERFIELD BARN HOUSE AMBER LANE,\\nCHART SUTTO...      NaN  \n"
     ]
    }
   ],
   "source": [
    "print(dataframe.head())"
   ]
  },
  {
   "cell_type": "code",
   "execution_count": 30,
   "id": "460e9ada",
   "metadata": {},
   "outputs": [],
   "source": [
    "dataframe[\"city\"].fillna(\"OTHER\", inplace = True)"
   ]
  },
  {
   "cell_type": "code",
   "execution_count": 31,
   "id": "42c5da9b",
   "metadata": {},
   "outputs": [
    {
     "name": "stdout",
     "output_type": "stream",
     "text": [
      "   company_id                                            address  total_spend  \\\n",
      "0           1  APARTMENT 2,\\n52 BEDFORD ROAD,\\nLONDON,\\nENGLA...         5700   \n",
      "1           2           107 SHERINGHAM AVENUE,\\nLONDON,\\nN14 4UJ         4700   \n",
      "2           3  43 SUNNINGDALE,\\nYATE,\\nBRISTOL,\\nENGLAND,\\nBS...         5900   \n",
      "3           4  HAWESWATER HOUSE,\\nLINGLEY MERE BUSINESS PARK,...         7200   \n",
      "4           5  AMBERFIELD BARN HOUSE AMBER LANE,\\nCHART SUTTO...         4600   \n",
      "\n",
      "                                         new_address     city  \n",
      "0  APARTMENT 2,\\n52 BEDFORD ROAD,\\nLONDON,\\nENGLA...   LONDON  \n",
      "1           107 SHERINGHAM AVENUE,\\nLONDON,\\nN14 4UJ   LONDON  \n",
      "2  43 SUNNINGDALE,\\nYATE,\\nBRISTOL,\\nENGLAND,\\nBS...  BRISTOL  \n",
      "3  HAWESWATER HOUSE,\\nLINGLEY MERE BUSINESS PARK,...    OTHER  \n",
      "4  AMBERFIELD BARN HOUSE AMBER LANE,\\nCHART SUTTO...    OTHER  \n"
     ]
    }
   ],
   "source": [
    "print(dataframe.head())"
   ]
  },
  {
   "cell_type": "code",
   "execution_count": 32,
   "id": "1f18ebd9",
   "metadata": {},
   "outputs": [
    {
     "data": {
      "text/plain": [
       "OTHER         54458\n",
       "LONDON        20762\n",
       "MANCHESTER     1902\n",
       "BIRMINGHAM     1866\n",
       "GLASGOW        1273\n",
       "Name: city, dtype: int64"
      ]
     },
     "execution_count": 32,
     "metadata": {},
     "output_type": "execute_result"
    }
   ],
   "source": [
    "dataframe[\"city\"].value_counts().head()"
   ]
  },
  {
   "cell_type": "code",
   "execution_count": 33,
   "id": "0aa464d4",
   "metadata": {},
   "outputs": [
    {
     "data": {
      "text/plain": [
       "OTHER            54458\n",
       "LONDON           20762\n",
       "MANCHESTER        1902\n",
       "BIRMINGHAM        1866\n",
       "GLASGOW           1273\n",
       "BRISTOL           1150\n",
       "LEEDS             1040\n",
       "EDINBURGH         1038\n",
       "LEICESTER          905\n",
       "NOTTINGHAM         838\n",
       "LIVERPOOL          838\n",
       "CARDIFF            797\n",
       "SHEFFIELD          706\n",
       "COVENTRY           553\n",
       "MILTON KEYNES      493\n",
       "SOUTHAMPTON        477\n",
       "NORWICH            449\n",
       "BRADFORD           417\n",
       "BELFAST            416\n",
       "PRESTON            406\n",
       "Name: city, dtype: int64"
      ]
     },
     "execution_count": 33,
     "metadata": {},
     "output_type": "execute_result"
    }
   ],
   "source": [
    "dataframe[\"city\"].value_counts().head(20)"
   ]
  },
  {
   "cell_type": "markdown",
   "id": "ff145dc0",
   "metadata": {},
   "source": [
    "# the top 20 cities based on customers"
   ]
  },
  {
   "cell_type": "code",
   "execution_count": 34,
   "id": "20614338",
   "metadata": {},
   "outputs": [
    {
     "name": "stdout",
     "output_type": "stream",
     "text": [
      "{'KINGSTON-UPON-HULL'}\n"
     ]
    }
   ],
   "source": [
    "Not_Included_Cities = set(cities[\"city\"]) - set(dataframe[\"city\"])  \n",
    "print(Not_Included_Cities)"
   ]
  },
  {
   "cell_type": "code",
   "execution_count": 35,
   "id": "52fd3714",
   "metadata": {},
   "outputs": [
    {
     "data": {
      "text/html": [
       "<div>\n",
       "<style scoped>\n",
       "    .dataframe tbody tr th:only-of-type {\n",
       "        vertical-align: middle;\n",
       "    }\n",
       "\n",
       "    .dataframe tbody tr th {\n",
       "        vertical-align: top;\n",
       "    }\n",
       "\n",
       "    .dataframe thead th {\n",
       "        text-align: right;\n",
       "    }\n",
       "</style>\n",
       "<table border=\"1\" class=\"dataframe\">\n",
       "  <thead>\n",
       "    <tr style=\"text-align: right;\">\n",
       "      <th></th>\n",
       "      <th>company_id</th>\n",
       "      <th>address</th>\n",
       "      <th>total_spend</th>\n",
       "      <th>new_address</th>\n",
       "      <th>city</th>\n",
       "    </tr>\n",
       "  </thead>\n",
       "  <tbody>\n",
       "    <tr>\n",
       "      <th>455</th>\n",
       "      <td>456</td>\n",
       "      <td>349 BEVERLEY ROAD,\\nANLABY,\\nHULL,\\nENGLAND,\\n...</td>\n",
       "      <td>3800</td>\n",
       "      <td>349 BEVERLEY ROAD,\\nANLABY,\\nHULL,\\nENGLAND,\\n...</td>\n",
       "      <td>OTHER</td>\n",
       "    </tr>\n",
       "    <tr>\n",
       "      <th>1139</th>\n",
       "      <td>1140</td>\n",
       "      <td>90 CALVERT LANE,\\nHULL,\\nENGLAND,\\nHU4 6BJ</td>\n",
       "      <td>6000</td>\n",
       "      <td>90 CALVERT LANE,\\nHULL,\\nENGLAND,\\nHU4 6BJ</td>\n",
       "      <td>OTHER</td>\n",
       "    </tr>\n",
       "    <tr>\n",
       "      <th>1822</th>\n",
       "      <td>1823</td>\n",
       "      <td>ACER GLADE BLACK TUP LANE,\\nARNOLD,\\nHULL,\\nEN...</td>\n",
       "      <td>4600</td>\n",
       "      <td>ACER GLADE BLACK TUP LANE,\\nARNOLD,\\nHULL,\\nEN...</td>\n",
       "      <td>OTHER</td>\n",
       "    </tr>\n",
       "    <tr>\n",
       "      <th>1831</th>\n",
       "      <td>1832</td>\n",
       "      <td>10 GORDON STREET,\\nHULL,\\nENGLAND,\\nHU3 3HN</td>\n",
       "      <td>5300</td>\n",
       "      <td>10 GORDON STREET,\\nHULL,\\nENGLAND,\\nHU3 3HN</td>\n",
       "      <td>OTHER</td>\n",
       "    </tr>\n",
       "    <tr>\n",
       "      <th>1921</th>\n",
       "      <td>1922</td>\n",
       "      <td>70 WRIGHT STREET,\\nHULL,\\nENGLAND,\\nHU2 8JD</td>\n",
       "      <td>6100</td>\n",
       "      <td>70 WRIGHT STREET,\\nHULL,\\nENGLAND,\\nHU2 8JD</td>\n",
       "      <td>OTHER</td>\n",
       "    </tr>\n",
       "    <tr>\n",
       "      <th>...</th>\n",
       "      <td>...</td>\n",
       "      <td>...</td>\n",
       "      <td>...</td>\n",
       "      <td>...</td>\n",
       "      <td>...</td>\n",
       "    </tr>\n",
       "    <tr>\n",
       "      <th>98479</th>\n",
       "      <td>98480</td>\n",
       "      <td>31-38 QUEEN STREET,\\nHULL,\\nENGLAND,\\nHU1 1UU</td>\n",
       "      <td>4500</td>\n",
       "      <td>31-38 QUEEN STREET,\\nHULL,\\nENGLAND,\\nHU1 1UU</td>\n",
       "      <td>OTHER</td>\n",
       "    </tr>\n",
       "    <tr>\n",
       "      <th>98886</th>\n",
       "      <td>98887</td>\n",
       "      <td>13 SALMON GROVE,\\nHULL,\\nEAST YORKSHIRE,\\nENGL...</td>\n",
       "      <td>5000</td>\n",
       "      <td>13 SALMON GROVE,\\nHULL,\\nEAST YORKSHIRE,\\nENGL...</td>\n",
       "      <td>OTHER</td>\n",
       "    </tr>\n",
       "    <tr>\n",
       "      <th>99196</th>\n",
       "      <td>99197</td>\n",
       "      <td>22 19TH AVENUE,\\nHULL,\\nENGLAND,\\nHU6 8HF</td>\n",
       "      <td>5900</td>\n",
       "      <td>22 19TH AVENUE,\\nHULL,\\nENGLAND,\\nHU6 8HF</td>\n",
       "      <td>OTHER</td>\n",
       "    </tr>\n",
       "    <tr>\n",
       "      <th>99434</th>\n",
       "      <td>99435</td>\n",
       "      <td>F14 THE BLOC SPRINGFIELD WAY,\\nANLABY,\\nHULL,\\...</td>\n",
       "      <td>3100</td>\n",
       "      <td>F14 THE BLOC SPRINGFIELD WAY,\\nANLABY,\\nHULL,\\...</td>\n",
       "      <td>OTHER</td>\n",
       "    </tr>\n",
       "    <tr>\n",
       "      <th>99659</th>\n",
       "      <td>99660</td>\n",
       "      <td>273 ANLABY ROAD,\\nHULL,\\nEAST RIDING OF YORKSH...</td>\n",
       "      <td>6400</td>\n",
       "      <td>273 ANLABY ROAD,\\nHULL,\\nEAST RIDING OF YORKSH...</td>\n",
       "      <td>OTHER</td>\n",
       "    </tr>\n",
       "  </tbody>\n",
       "</table>\n",
       "<p>296 rows × 5 columns</p>\n",
       "</div>"
      ],
      "text/plain": [
       "       company_id                                            address  \\\n",
       "455           456  349 BEVERLEY ROAD,\\nANLABY,\\nHULL,\\nENGLAND,\\n...   \n",
       "1139         1140         90 CALVERT LANE,\\nHULL,\\nENGLAND,\\nHU4 6BJ   \n",
       "1822         1823  ACER GLADE BLACK TUP LANE,\\nARNOLD,\\nHULL,\\nEN...   \n",
       "1831         1832        10 GORDON STREET,\\nHULL,\\nENGLAND,\\nHU3 3HN   \n",
       "1921         1922        70 WRIGHT STREET,\\nHULL,\\nENGLAND,\\nHU2 8JD   \n",
       "...           ...                                                ...   \n",
       "98479       98480      31-38 QUEEN STREET,\\nHULL,\\nENGLAND,\\nHU1 1UU   \n",
       "98886       98887  13 SALMON GROVE,\\nHULL,\\nEAST YORKSHIRE,\\nENGL...   \n",
       "99196       99197          22 19TH AVENUE,\\nHULL,\\nENGLAND,\\nHU6 8HF   \n",
       "99434       99435  F14 THE BLOC SPRINGFIELD WAY,\\nANLABY,\\nHULL,\\...   \n",
       "99659       99660  273 ANLABY ROAD,\\nHULL,\\nEAST RIDING OF YORKSH...   \n",
       "\n",
       "       total_spend                                        new_address   city  \n",
       "455           3800  349 BEVERLEY ROAD,\\nANLABY,\\nHULL,\\nENGLAND,\\n...  OTHER  \n",
       "1139          6000         90 CALVERT LANE,\\nHULL,\\nENGLAND,\\nHU4 6BJ  OTHER  \n",
       "1822          4600  ACER GLADE BLACK TUP LANE,\\nARNOLD,\\nHULL,\\nEN...  OTHER  \n",
       "1831          5300        10 GORDON STREET,\\nHULL,\\nENGLAND,\\nHU3 3HN  OTHER  \n",
       "1921          6100        70 WRIGHT STREET,\\nHULL,\\nENGLAND,\\nHU2 8JD  OTHER  \n",
       "...            ...                                                ...    ...  \n",
       "98479         4500      31-38 QUEEN STREET,\\nHULL,\\nENGLAND,\\nHU1 1UU  OTHER  \n",
       "98886         5000  13 SALMON GROVE,\\nHULL,\\nEAST YORKSHIRE,\\nENGL...  OTHER  \n",
       "99196         5900          22 19TH AVENUE,\\nHULL,\\nENGLAND,\\nHU6 8HF  OTHER  \n",
       "99434         3100  F14 THE BLOC SPRINGFIELD WAY,\\nANLABY,\\nHULL,\\...  OTHER  \n",
       "99659         6400  273 ANLABY ROAD,\\nHULL,\\nEAST RIDING OF YORKSH...  OTHER  \n",
       "\n",
       "[296 rows x 5 columns]"
      ]
     },
     "execution_count": 35,
     "metadata": {},
     "output_type": "execute_result"
    }
   ],
   "source": [
    "dataframe.loc[dataframe[\"new_address\"].str.contains(\"\\nHULL\")]"
   ]
  },
  {
   "cell_type": "code",
   "execution_count": 36,
   "id": "12cff0af",
   "metadata": {},
   "outputs": [],
   "source": [
    "dataframe.loc[dataframe[\"new_address\"].str.contains(\"\\nHULL\"),\"city\"]=\"HULL\""
   ]
  },
  {
   "cell_type": "code",
   "execution_count": 37,
   "id": "a82e876d",
   "metadata": {},
   "outputs": [
    {
     "data": {
      "text/plain": [
       "OTHER            54164\n",
       "LONDON           20762\n",
       "MANCHESTER        1902\n",
       "BIRMINGHAM        1866\n",
       "GLASGOW           1273\n",
       "BRISTOL           1150\n",
       "LEEDS             1040\n",
       "EDINBURGH         1038\n",
       "LEICESTER          905\n",
       "NOTTINGHAM         838\n",
       "LIVERPOOL          838\n",
       "CARDIFF            797\n",
       "SHEFFIELD          706\n",
       "COVENTRY           553\n",
       "MILTON KEYNES      493\n",
       "SOUTHAMPTON        477\n",
       "NORWICH            449\n",
       "BRADFORD           417\n",
       "BELFAST            416\n",
       "PRESTON            405\n",
       "Name: city, dtype: int64"
      ]
     },
     "execution_count": 37,
     "metadata": {},
     "output_type": "execute_result"
    }
   ],
   "source": [
    "dataframe[\"city\"].value_counts().head(20)"
   ]
  },
  {
   "cell_type": "code",
   "execution_count": 38,
   "id": "d3f8dd6c",
   "metadata": {},
   "outputs": [],
   "source": [
    "Top_20_Cities = dataframe.groupby(\"city\")[\"total_spend\"].sum().sort_values(ascending=False).head(20).sort_values(ascending=False) "
   ]
  },
  {
   "cell_type": "code",
   "execution_count": 39,
   "id": "b5354684",
   "metadata": {},
   "outputs": [
    {
     "data": {
      "text/plain": [
       "city\n",
       "OTHER            267806500\n",
       "LONDON           103042800\n",
       "MANCHESTER         9344200\n",
       "BIRMINGHAM         9317900\n",
       "GLASGOW            6293100\n",
       "BRISTOL            5730400\n",
       "LEEDS              5167100\n",
       "EDINBURGH          5089600\n",
       "LEICESTER          4431700\n",
       "NOTTINGHAM         4200200\n",
       "LIVERPOOL          4155300\n",
       "CARDIFF            3972600\n",
       "SHEFFIELD          3500900\n",
       "COVENTRY           2679000\n",
       "MILTON KEYNES      2484200\n",
       "SOUTHAMPTON        2376600\n",
       "NORWICH            2259000\n",
       "BRADFORD           2060700\n",
       "BELFAST            2059400\n",
       "PRESTON            2044900\n",
       "Name: total_spend, dtype: int64"
      ]
     },
     "execution_count": 39,
     "metadata": {},
     "output_type": "execute_result"
    }
   ],
   "source": [
    "Top_20_Cities"
   ]
  },
  {
   "cell_type": "code",
   "execution_count": 40,
   "id": "61f58b92",
   "metadata": {},
   "outputs": [
    {
     "data": {
      "image/png": "[encoded data removed]",
      "text/plain": [
       "<Figure size 432x288 with 1 Axes>"
      ]
     },
     "metadata": {
      "needs_background": "light"
     },
     "output_type": "display_data"
    }
   ],
   "source": [
    "Top_20_Cities.plot.barh()\n",
    "plt.title(\"Total customer spend by city\")\n",
    "plt.xlabel(\"Total spend\")\n",
    "plt.show()"
   ]
  },
  {
   "cell_type": "code",
   "execution_count": 41,
   "id": "a1e00f8c",
   "metadata": {},
   "outputs": [],
   "source": [
    "Last_20_Cities = dataframe.groupby(\"city\")[\"total_spend\"].sum().sort_values(ascending=True).head(20).sort_values(ascending=True) "
   ]
  },
  {
   "cell_type": "code",
   "execution_count": 42,
   "id": "050106fe",
   "metadata": {},
   "outputs": [
    {
     "data": {
      "text/plain": [
       "city\n",
       "ST DAVIDS                6300\n",
       "BRIGHTON & HOVE          7400\n",
       "NEWCASTLE-UPON-TYNE     10900\n",
       "ST ASAPH                34900\n",
       "WESTMINSTER             50000\n",
       "RIPON                  120100\n",
       "WELLS                  255700\n",
       "ARMAGH                 263400\n",
       "LISBURN                292000\n",
       "BANGOR                 292000\n",
       "STOKE ON TRENT         302600\n",
       "DUNFERMLINE            317100\n",
       "LANCASTER              324700\n",
       "STIRLING               325600\n",
       "INVERNESS              342200\n",
       "PERTH                  349500\n",
       "ELY                    354000\n",
       "LONDONDERRY            383700\n",
       "LICHFIELD              419000\n",
       "TRURO                  419300\n",
       "Name: total_spend, dtype: int64"
      ]
     },
     "execution_count": 42,
     "metadata": {},
     "output_type": "execute_result"
    }
   ],
   "source": [
    "Last_20_Cities"
   ]
  },
  {
   "cell_type": "code",
   "execution_count": 43,
   "id": "a50ff9b3",
   "metadata": {},
   "outputs": [
    {
     "data": {
      "image/png": "[encoded data removed]",
      "text/plain": [
       "<Figure size 432x288 with 1 Axes>"
      ]
     },
     "metadata": {
      "needs_background": "light"
     },
     "output_type": "display_data"
    }
   ],
   "source": [
    "Last_20_Cities.plot.barh()\n",
    "plt.title(\"Total customer spend by city\")\n",
    "plt.xlabel(\"Total spend\")\n",
    "plt.show()"
   ]
  },
  {
   "cell_type": "code",
   "execution_count": 52,
   "id": "3afb0a4c",
   "metadata": {},
   "outputs": [
    {
     "name": "stdout",
     "output_type": "stream",
     "text": [
      "Total spend customers inside London:\n",
      "103042800\n"
     ]
    }
   ],
   "source": [
    "print(\"Total spend customers inside London:\")\n",
    "print(dataframe.loc[dataframe[\"city\"] == \"LONDON\", \"total_spend\"].sum())"
   ]
  },
  {
   "cell_type": "code",
   "execution_count": 53,
   "id": "d06e5b44",
   "metadata": {},
   "outputs": [
    {
     "name": "stdout",
     "output_type": "stream",
     "text": [
      "Total spend for All customers Outside London:\n",
      "387331300\n"
     ]
    }
   ],
   "source": [
    "print(\"Total spend for All customers Outside London:\")\n",
    "print(dataframe.loc[dataframe[\"city\"] != \"LONDON\", \"total_spend\"].sum())"
   ]
  },
  {
   "cell_type": "code",
   "execution_count": 54,
   "id": "61fb119b",
   "metadata": {},
   "outputs": [
    {
     "name": "stdout",
     "output_type": "stream",
     "text": [
      "Total spend for All customers not found in London and OTHER:\n",
      "119524800\n"
     ]
    }
   ],
   "source": [
    "print(\"Total spend for All customers not found in London and OTHER:\")\n",
    "print(dataframe.loc[(dataframe[\"city\"].isin([\"LONDON\", \"OTHER\"])) == False, \"total_spend\"].sum())"
   ]
  }
 ],
 "metadata": {
  "kernelspec": {
   "display_name": "Python 3 (ipykernel)",
   "language": "python",
   "name": "python3"
  },
  "language_info": {
   "codemirror_mode": {
    "name": "ipython",
    "version": 3
   },
   "file_extension": ".py",
   "mimetype": "text/x-python",
   "name": "python",
   "nbconvert_exporter": "python",
   "pygments_lexer": "ipython3",
   "version": "3.9.7"
  }
 },
 "nbformat": 4,
 "nbformat_minor": 5
}
