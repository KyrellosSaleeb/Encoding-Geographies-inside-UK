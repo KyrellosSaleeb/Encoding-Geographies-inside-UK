{
 "cells": [
  {
   "cell_type": "markdown",
   "id": "0c1146f4",
   "metadata": {},
   "source": [
    "# Project Brief: identifying customer geographies\n",
    "\n",
    "As an analyst for ProWidget Systems, a United Kingdom-based B2B (business-to-business) retailer, you’ve been asked to report on spending volumes for London-based customers versus those based in the rest of the United Kingdom. The board have supplied a high-level data extract containing all customers’ addresses and their total spend to date. They want to know:\n",
    "\n",
    "1- Which UK cities are currently underserved?\n",
    "\n",
    "2- Are their customers primarily London-based?"
   ]
  },
  {
   "cell_type": "code",
   "execution_count": 2,
   "id": "48605b6e",
   "metadata": {},
   "outputs": [],
   "source": [
    "import pandas as pd\n",
    "import numpy as np\n",
    "import matplotlib.pyplot as plt\n",
    "import seaborn as sns\n",
    "import csv"
   ]
  },
  {
   "cell_type": "code",
   "execution_count": 3,
   "id": "594aad1c",
   "metadata": {},
   "outputs": [],
   "source": [
    "FilePath = \"addresses.csv\""
   ]
  },
  {
   "cell_type": "code",
   "execution_count": 4,
   "id": "820286f9",
   "metadata": {},
   "outputs": [],
   "source": [
    "dataframe = pd.read_csv(FilePath)"
   ]
  },
  {
   "cell_type": "code",
   "execution_count": 5,
   "id": "9082d64c",
   "metadata": {},
   "outputs": [
    {
     "name": "stdout",
     "output_type": "stream",
     "text": [
      "<class 'pandas.core.frame.DataFrame'>\n",
      "RangeIndex: 100000 entries, 0 to 99999\n",
      "Data columns (total 3 columns):\n",
      " #   Column       Non-Null Count   Dtype \n",
      "---  ------       --------------   ----- \n",
      " 0   company_id   100000 non-null  int64 \n",
      " 1   address      99032 non-null   object\n",
      " 2   total_spend  100000 non-null  int64 \n",
      "dtypes: int64(2), object(1)\n",
      "memory usage: 2.3+ MB\n",
      "None\n"
     ]
    }
   ],
   "source": [
    "print(dataframe.info())"
   ]
  },
  {
   "cell_type": "markdown",
   "id": "9d60a215",
   "metadata": {},
   "source": [
    "# Insights:\n",
    "\n",
    "    **Total Rows: The DataFrame contains 100,000 rows (entries), with indexes ranging from 0 to 99,999.\n",
    "    \n",
    "    **Columns and Data Types:\n",
    "        * company_id and total_spend are both of type int64 (integer values), meaning these columns contain numerical data.\n",
    "        * address is of type object, which typically refers to strings in pandas.\n",
    "        \n",
    "    **Missing Data:\n",
    "\n",
    "    * The address column has 99,032 non-null entries, meaning there are 968 missing values (100,000 - 99,032). This could indicate the need for data imputation or removal depending on your analysis needs.\n",
    "    * company_id and total_spend have no missing values, meaning they are complete."
   ]
  },
  {
   "cell_type": "code",
   "execution_count": 6,
   "id": "9f0ef3cf",
   "metadata": {},
   "outputs": [
    {
     "name": "stdout",
     "output_type": "stream",
     "text": [
      "   company_id                                            address  total_spend\n",
      "0           1  APARTMENT 2,\\n52 BEDFORD ROAD,\\nLONDON,\\nENGLA...         5700\n",
      "1           2           107 SHERINGHAM AVENUE,\\nLONDON,\\nN14 4UJ         4700\n",
      "2           3  43 SUNNINGDALE,\\nYATE,\\nBRISTOL,\\nENGLAND,\\nBS...         5900\n",
      "3           4  HAWESWATER HOUSE,\\nLINGLEY MERE BUSINESS PARK,...         7200\n",
      "4           5  AMBERFIELD BARN HOUSE AMBER LANE,\\nCHART SUTTO...         4600\n"
     ]
    }
   ],
   "source": [
    "print(dataframe.head())"
   ]
  },
  {
   "cell_type": "code",
   "execution_count": 7,
   "id": "90286760",
   "metadata": {},
   "outputs": [
    {
     "name": "stdout",
     "output_type": "stream",
     "text": [
      "          company_id    total_spend\n",
      "count  100000.000000  100000.000000\n",
      "mean    50000.500000    4951.662000\n",
      "std     28867.657797    1500.983866\n",
      "min         1.000000       0.000000\n",
      "25%     25000.750000    3900.000000\n",
      "50%     50000.500000    5000.000000\n",
      "75%     75000.250000    6000.000000\n",
      "max    100000.000000   11700.000000\n"
     ]
    }
   ],
   "source": [
    "print(dataframe.describe())"
   ]
  },
  {
   "cell_type": "markdown",
   "id": "1ab14c87",
   "metadata": {},
   "source": [
    "# Insights:\n",
    "\n",
    "    * company_id (numerical):\n",
    "        \n",
    "        Count: There are 100,000 values in this column.\n",
    "        \n",
    "        Mean: The average company_id is 50,000.5, suggesting a uniform distribution across the 100,000 companies.\n",
    "        \n",
    "        Standard Deviation (std): The value is 28,867.66, indicating a wide spread of company IDs from 1 to 100,000.\n",
    "        \n",
    "        Min and Max: The smallest company ID is 1, and the largest is 100,000, confirming that company IDs cover the full range without any gaps.\n",
    "        \n",
    "        Percentiles: The 25th percentile is around 25,000, the median (50th percentile) is 50,000, and the 75th percentile is 75,000, suggesting a symmetrical distribution of company IDs around the mean.\n",
    "\n",
    "     * total_spend (numerical):\n",
    "       \n",
    "        Count: There are 100,000 entries, with no missing values in this column.\n",
    "        \n",
    "        Mean: The average total_spend is 4,951.66, which reflects the typical spending amount across companies.\n",
    "        \n",
    "        Standard Deviation (std): The spread in total_spend is relatively large at 1,500.98, indicating that spending varies greatly across companies.\n",
    "        \n",
    "        Min and Max: The minimum spend is 0, and the maximum is 11,700. This suggests that some companies may have very low or zero spending, while others have considerably higher values.\n",
    "        \n",
    "        Percentiles: The 25th percentile (Q1) is 3,900, the median (Q2) is 5,000, and the 75th percentile (Q3) is 6,000, showing that a majority of companies spend between 3,900 and 6,000. This could indicate a slight skew towards lower spending."
   ]
  },
  {
   "cell_type": "code",
   "execution_count": 8,
   "id": "e2c482cc",
   "metadata": {},
   "outputs": [
    {
     "name": "stdout",
     "output_type": "stream",
     "text": [
      "company_id       0\n",
      "address        968\n",
      "total_spend      0\n",
      "dtype: int64\n"
     ]
    }
   ],
   "source": [
    "#check null values\n",
    "print(dataframe.isnull().sum())"
   ]
  },
  {
   "cell_type": "code",
   "execution_count": 9,
   "id": "8962947d",
   "metadata": {},
   "outputs": [],
   "source": [
    "dataframe = dataframe.dropna()"
   ]
  },
  {
   "cell_type": "code",
   "execution_count": 10,
   "id": "5a4a1e8f",
   "metadata": {},
   "outputs": [
    {
     "name": "stdout",
     "output_type": "stream",
     "text": [
      "company_id     0\n",
      "address        0\n",
      "total_spend    0\n",
      "dtype: int64\n"
     ]
    }
   ],
   "source": [
    "print(dataframe.isnull().sum())"
   ]
  },
  {
   "cell_type": "code",
   "execution_count": 11,
   "id": "b86d6259",
   "metadata": {},
   "outputs": [
    {
     "name": "stdout",
     "output_type": "stream",
     "text": [
      "<class 'pandas.core.frame.DataFrame'>\n",
      "Int64Index: 99032 entries, 0 to 99999\n",
      "Data columns (total 3 columns):\n",
      " #   Column       Non-Null Count  Dtype \n",
      "---  ------       --------------  ----- \n",
      " 0   company_id   99032 non-null  int64 \n",
      " 1   address      99032 non-null  object\n",
      " 2   total_spend  99032 non-null  int64 \n",
      "dtypes: int64(2), object(1)\n",
      "memory usage: 3.0+ MB\n",
      "None\n"
     ]
    }
   ],
   "source": [
    "print(dataframe.info())"
   ]
  },
  {
   "cell_type": "code",
   "execution_count": 12,
   "id": "584b8022",
   "metadata": {},
   "outputs": [
    {
     "name": "stdout",
     "output_type": "stream",
     "text": [
      "0        False\n",
      "1        False\n",
      "2        False\n",
      "3        False\n",
      "4        False\n",
      "         ...  \n",
      "99995    False\n",
      "99996    False\n",
      "99997    False\n",
      "99998    False\n",
      "99999    False\n",
      "Length: 99032, dtype: bool\n"
     ]
    }
   ],
   "source": [
    "print(dataframe.duplicated())"
   ]
  },
  {
   "cell_type": "code",
   "execution_count": 13,
   "id": "73b0a696",
   "metadata": {},
   "outputs": [],
   "source": [
    "dataframe = dataframe.drop_duplicates()"
   ]
  },
  {
   "cell_type": "code",
   "execution_count": 14,
   "id": "1b28d53b",
   "metadata": {},
   "outputs": [
    {
     "name": "stdout",
     "output_type": "stream",
     "text": [
      "<class 'pandas.core.frame.DataFrame'>\n",
      "Int64Index: 99032 entries, 0 to 99999\n",
      "Data columns (total 3 columns):\n",
      " #   Column       Non-Null Count  Dtype \n",
      "---  ------       --------------  ----- \n",
      " 0   company_id   99032 non-null  int64 \n",
      " 1   address      99032 non-null  object\n",
      " 2   total_spend  99032 non-null  int64 \n",
      "dtypes: int64(2), object(1)\n",
      "memory usage: 3.0+ MB\n",
      "None\n"
     ]
    }
   ],
   "source": [
    "print(dataframe.info())"
   ]
  },
  {
   "cell_type": "markdown",
   "id": "857d817c",
   "metadata": {},
   "source": [
    "## No Duplicated data found"
   ]
  },
  {
   "cell_type": "code",
   "execution_count": 14,
   "id": "fb3a14bb",
   "metadata": {},
   "outputs": [
    {
     "name": "stdout",
     "output_type": "stream",
     "text": [
      "count    99032.000000\n",
      "mean      4951.673197\n",
      "std       1500.642398\n",
      "min          0.000000\n",
      "25%       3900.000000\n",
      "50%       5000.000000\n",
      "75%       6000.000000\n",
      "max      11700.000000\n",
      "Name: total_spend, dtype: float64\n"
     ]
    }
   ],
   "source": [
    "print(dataframe['total_spend'].describe())"
   ]
  },
  {
   "cell_type": "markdown",
   "id": "6f4ef717",
   "metadata": {},
   "source": [
    "# Insights:\n",
    "\n",
    "    * total_spend Column (Numerical):\n",
    "        \n",
    "        Count: There are 99,032 non-null entries in the total_spend column. This indicates that 968 entries are missing (compared to the 100,000 rows in the original dataset). This suggests that the data might have some missing values, which will need to be addressed.\n",
    "        \n",
    "        Mean: The average spending is 4,951.67, which is the central tendency for the total_spend values.\n",
    "        \n",
    "        Standard Deviation (std): The standard deviation is 1,500.64, indicating a moderate spread around the mean. This shows that there is considerable variability in how much companies spend.\n",
    "        \n",
    "        Min and Max: The minimum value is 0, and the maximum is 11,700, which suggests that some companies have no spending at all (zero spend), while others have a higher spending of up to 11,700.\n",
    "        \n",
    "        \n",
    "        *Percentiles:\n",
    "            \n",
    "            25% (Q1): 3,900 — 25% of companies have a total spend lower than 3,900.\n",
    "            \n",
    "            50% (Median): 5,000 — 50% of companies have a spend of 5,000 or less.\n",
    "            \n",
    "            75% (Q3): 6,000 — 75% of companies have a total spend of 6,000 or less.\n",
    "            \n",
    "            This suggests that most companies tend to spend between 3,900 and 6,000, with a concentration around the 5,000 mark."
   ]
  },
  {
   "cell_type": "code",
   "execution_count": 15,
   "id": "4a911309",
   "metadata": {
    "scrolled": false
   },
   "outputs": [
    {
     "name": "stdout",
     "output_type": "stream",
     "text": [
      "APARTMENT 2,\n",
      "52 BEDFORD ROAD,\n",
      "LONDON,\n",
      "ENGLAND,\n",
      "SW4 7HJ \n",
      "\n",
      "107 SHERINGHAM AVENUE,\n",
      "LONDON,\n",
      "N14 4UJ \n",
      "\n",
      "43 SUNNINGDALE,\n",
      "YATE,\n",
      "BRISTOL,\n",
      "ENGLAND,\n",
      "BS37 4HZ \n",
      "\n",
      "HAWESWATER HOUSE,\n",
      "LINGLEY MERE BUSINESS PARK,\n",
      "LINGLEY GREEN AVENUE,\n",
      "GREAT SANKEY, WARRINGTON,\n",
      "WA5 3LP \n",
      "\n",
      "AMBERFIELD BARN HOUSE AMBER LANE,\n",
      "CHART SUTTON,\n",
      "MAIDSTONE,\n",
      "ENGLAND,\n",
      "ME17 3SF \n",
      "\n"
     ]
    }
   ],
   "source": [
    "for address in dataframe['address'].head():\n",
    "    print(address,\"\\n\")"
   ]
  },
  {
   "cell_type": "code",
   "execution_count": 15,
   "id": "7f25616e",
   "metadata": {},
   "outputs": [],
   "source": [
    "# Create a new column 'new_address' by converting the 'address' column to uppercase.\n",
    "dataframe['new_address'] = dataframe[\"address\"].str.upper()"
   ]
  },
  {
   "cell_type": "code",
   "execution_count": 16,
   "id": "add23036",
   "metadata": {},
   "outputs": [
    {
     "name": "stdout",
     "output_type": "stream",
     "text": [
      "0    APARTMENT 2,\\n52 BEDFORD ROAD,\\nLONDON,\\nENGLA...\n",
      "1             107 SHERINGHAM AVENUE,\\nLONDON,\\nN14 4UJ\n",
      "2    43 SUNNINGDALE,\\nYATE,\\nBRISTOL,\\nENGLAND,\\nBS...\n",
      "3    HAWESWATER HOUSE,\\nLINGLEY MERE BUSINESS PARK,...\n",
      "4    AMBERFIELD BARN HOUSE AMBER LANE,\\nCHART SUTTO...\n",
      "Name: new_address, dtype: object\n"
     ]
    }
   ],
   "source": [
    "print(dataframe['new_address'].head())"
   ]
  },
  {
   "cell_type": "code",
   "execution_count": 24,
   "id": "2552cff4",
   "metadata": {},
   "outputs": [
    {
     "name": "stdout",
     "output_type": "stream",
     "text": [
      "20831\n",
      "21768\n"
     ]
    }
   ],
   "source": [
    "#checking if LONDON is different from LONDON, where the first may be street name while the second is city name in out data\n",
    "\n",
    "print(len(dataframe[dataframe['new_address'].str.contains(\"LONDON,\")]))\n",
    "print(len(dataframe[dataframe['new_address'].str.contains(\"LONDON\")]))"
   ]
  },
  {
   "cell_type": "code",
   "execution_count": 25,
   "id": "684420dc",
   "metadata": {},
   "outputs": [],
   "source": [
    "#read data of cities file to get all names of UK cities for the following analysis.\n",
    "\n",
    "cities = pd.read_csv(\"cities.csv\", header = None, names=[\"city\"])"
   ]
  },
  {
   "cell_type": "code",
   "execution_count": 26,
   "id": "56c4a5ab",
   "metadata": {},
   "outputs": [
    {
     "name": "stdout",
     "output_type": "stream",
     "text": [
      "              city\n",
      "0          England\n",
      "1             Bath\n",
      "2      Birmingham*\n",
      "3        Bradford*\n",
      "4  Brighton & Hove\n",
      "\n",
      "\n",
      "The Number of cities in file is: \n",
      " 80\n"
     ]
    }
   ],
   "source": [
    "print(cities.head())\n",
    "print(\"\\n\\nThe Number of cities in file is: \\n\",len(cities))"
   ]
  },
  {
   "cell_type": "markdown",
   "id": "700fea21",
   "metadata": {},
   "source": [
    "# Insights:\n",
    "\n",
    "    * cities.head():\n",
    "        \n",
    "        The DataFrame contains one column called \"city\", which holds the names of cities.\n",
    "        \n",
    "        Some city names contain an asterisk (*), such as \"Birmingham*\" and \"Bradford*\". This may indicate that these cities have special meanings or require further processing (e.g., removing the asterisk, handling data inconsistencies, etc.).\n",
    "        \n",
    "        The head() method displays the first 5 cities, including \"England\", which is likely a country rather than a city.\n",
    "\n",
    "    * len(cities):\n",
    "        \n",
    "        The total number of rows in the DataFrame is 80, which means the CSV file contains 80 city entries."
   ]
  },
  {
   "cell_type": "code",
   "execution_count": 27,
   "id": "ec74f19f",
   "metadata": {},
   "outputs": [
    {
     "name": "stdout",
     "output_type": "stream",
     "text": [
      "76\n"
     ]
    }
   ],
   "source": [
    "countries_to_remove = [\"England\", \"Scotland\", \"Wales\", \"Northern Ireland\"]\n",
    "cities_to_remove = cities[cities[\"city\"].isin(countries_to_remove)].index\n",
    "cities = cities.drop(index=cities_to_remove)\n",
    "print(len(cities))"
   ]
  },
  {
   "cell_type": "markdown",
   "id": "606e54a4",
   "metadata": {},
   "source": [
    "# Insights:\n",
    "\n",
    "    * len(cities):\n",
    "        \n",
    "        After removing the four countries from the dataset, the number of rows in the cities DataFrame has decreased to 76.\n",
    "        \n",
    "        This indicates that four entries were removed, one for each country (\"England\", \"Scotland\", \"Wales\", and \"Northern Ireland\").\n",
    "\n",
    "     *Now, the operation successfully removed the non-city entries from the DataFrame. Now, the cities DataFrame contains only city names (assuming the remaining entries are all valid cities)."
   ]
  },
  {
   "cell_type": "code",
   "execution_count": 28,
   "id": "60b0f043",
   "metadata": {},
   "outputs": [
    {
     "name": "stdout",
     "output_type": "stream",
     "text": [
      "          city\n",
      "count       76\n",
      "unique      75\n",
      "top     Bangor\n",
      "freq         2\n"
     ]
    }
   ],
   "source": [
    "print(cities.describe())"
   ]
  },
  {
   "cell_type": "markdown",
   "id": "81c67be5",
   "metadata": {},
   "source": [
    "# Insights:\n",
    "\n",
    "    * count = 76: This confirms that there are 76 non-null entries in the city column after removing the countries (England, Scotland, Wales, Northern Ireland).\n",
    "\n",
    "    * unique = 75: There are 75 unique city names in the dataset, indicating that one city is duplicated.\n",
    "\n",
    "    * top = Bangor: The most frequent city name in the dataset is Bangor. This could be a common city name in multiple locations, or it could be a data entry issue (e.g., multiple cities with the same name).\n",
    "\n",
    "    * freq = 2: The city Bangor appears twice in the dataset. This means that two entries in the city column have the same value of \"Bangor.\""
   ]
  },
  {
   "cell_type": "code",
   "execution_count": 55,
   "id": "a27e7ae9",
   "metadata": {},
   "outputs": [
    {
     "name": "stdout",
     "output_type": "stream",
     "text": [
      "<class 'pandas.core.frame.DataFrame'>\n",
      "Int64Index: 75 entries, 1 to 79\n",
      "Data columns (total 1 columns):\n",
      " #   Column  Non-Null Count  Dtype \n",
      "---  ------  --------------  ----- \n",
      " 0   city    75 non-null     object\n",
      "dtypes: object(1)\n",
      "memory usage: 1.2+ KB\n",
      "None\n",
      "        city\n",
      "count     75\n",
      "unique    75\n",
      "top     BATH\n",
      "freq       1\n"
     ]
    }
   ],
   "source": [
    "cities = cities.drop_duplicates()\n",
    "print(cities.info())\n",
    "print(cities.describe())"
   ]
  },
  {
   "cell_type": "markdown",
   "id": "8175dc58",
   "metadata": {},
   "source": [
    "# Insights:\n",
    "    * Int64Index: 75 entries, 1 to 79: The DataFrame now contains 75 rows (entries), indexed from 1 to 79 (showing that the indices are not sequential because we dropped some rows earlier).\n",
    "    \n",
    "    * count = 75: After dropping the duplicates, there are now 75 valid city entries. The count reflects the fact that the dataset no longer includes any repeated cities.\n",
    "\n",
    "    * unique = 75: The number of unique cities remains 75, confirming that all cities in the dataset are now distinct.\n",
    "\n",
    "    * top = Bath: The most frequent city in the dataset is now Bath, which means that Bath is the most commonly occurring city name in this cleaned dataset.\n",
    "\n",
    "    * freq = 1: The city Bath appears only once in the dataset. This indicates that, post-deduplication, all the cities in the list are unique, with no city appearing more than once."
   ]
  },
  {
   "cell_type": "code",
   "execution_count": 58,
   "id": "79dda9c7",
   "metadata": {},
   "outputs": [],
   "source": [
    "# Remove any asterisk ('*') characters from the 'city' column entries\n",
    "cities[\"city\"] = cities[\"city\"].str.replace(\"*\", \"\", regex=False)"
   ]
  },
  {
   "cell_type": "code",
   "execution_count": 64,
   "id": "24ab6b69",
   "metadata": {},
   "outputs": [],
   "source": [
    "# Convert all city names in the 'city' column to uppercase\n",
    "cities[\"city\"] = cities[\"city\"].str.upper()"
   ]
  },
  {
   "cell_type": "code",
   "execution_count": 65,
   "id": "ee460d08",
   "metadata": {},
   "outputs": [
    {
     "name": "stdout",
     "output_type": "stream",
     "text": [
      "              city\n",
      "1             BATH\n",
      "2       BIRMINGHAM\n",
      "3         BRADFORD\n",
      "4  BRIGHTON & HOVE\n",
      "5          BRISTOL\n",
      "75\n"
     ]
    }
   ],
   "source": [
    "print(cities.head())\n",
    "print(len(cities))"
   ]
  },
  {
   "cell_type": "code",
   "execution_count": 67,
   "id": "e0cc3ad6",
   "metadata": {},
   "outputs": [],
   "source": [
    "# Loop through each city in the 'cities' DataFrame and assign it to the 'city' column in 'dataframe'\n",
    "for city in cities[\"city\"].values:\n",
    "    dataframe.loc[dataframe[\"new_address\"].str.contains(f\"\\n{city},\"),\"city\"]=city"
   ]
  },
  {
   "cell_type": "code",
   "execution_count": 68,
   "id": "bdc8d81f",
   "metadata": {},
   "outputs": [
    {
     "name": "stdout",
     "output_type": "stream",
     "text": [
      "<class 'pandas.core.frame.DataFrame'>\n",
      "Int64Index: 99032 entries, 0 to 99999\n",
      "Data columns (total 5 columns):\n",
      " #   Column       Non-Null Count  Dtype \n",
      "---  ------       --------------  ----- \n",
      " 0   company_id   99032 non-null  int64 \n",
      " 1   address      99032 non-null  object\n",
      " 2   total_spend  99032 non-null  int64 \n",
      " 3   new_address  99032 non-null  object\n",
      " 4   city         99032 non-null  object\n",
      "dtypes: int64(2), object(3)\n",
      "memory usage: 4.5+ MB\n",
      "None\n"
     ]
    }
   ],
   "source": [
    "print(dataframe.info())"
   ]
  },
  {
   "cell_type": "markdown",
   "id": "fbf5c202",
   "metadata": {},
   "source": [
    "## we added the city column to our data to contain the city name for further analysis"
   ]
  },
  {
   "cell_type": "code",
   "execution_count": 69,
   "id": "52d51de5",
   "metadata": {},
   "outputs": [
    {
     "name": "stdout",
     "output_type": "stream",
     "text": [
      "   company_id                                            address  total_spend  \\\n",
      "0           1  APARTMENT 2,\\n52 BEDFORD ROAD,\\nLONDON,\\nENGLA...         5700   \n",
      "1           2           107 SHERINGHAM AVENUE,\\nLONDON,\\nN14 4UJ         4700   \n",
      "2           3  43 SUNNINGDALE,\\nYATE,\\nBRISTOL,\\nENGLAND,\\nBS...         5900   \n",
      "3           4  HAWESWATER HOUSE,\\nLINGLEY MERE BUSINESS PARK,...         7200   \n",
      "4           5  AMBERFIELD BARN HOUSE AMBER LANE,\\nCHART SUTTO...         4600   \n",
      "\n",
      "                                         new_address     city  \n",
      "0  APARTMENT 2,\\n52 BEDFORD ROAD,\\nLONDON,\\nENGLA...   LONDON  \n",
      "1           107 SHERINGHAM AVENUE,\\nLONDON,\\nN14 4UJ   LONDON  \n",
      "2  43 SUNNINGDALE,\\nYATE,\\nBRISTOL,\\nENGLAND,\\nBS...  BRISTOL  \n",
      "3  HAWESWATER HOUSE,\\nLINGLEY MERE BUSINESS PARK,...    OTHER  \n",
      "4  AMBERFIELD BARN HOUSE AMBER LANE,\\nCHART SUTTO...    OTHER  \n"
     ]
    }
   ],
   "source": [
    "print(dataframe.head())"
   ]
  },
  {
   "cell_type": "code",
   "execution_count": 70,
   "id": "460e9ada",
   "metadata": {},
   "outputs": [],
   "source": [
    "# Fill missing values in the 'city' column with the value \"OTHER\"\n",
    "dataframe[\"city\"].fillna(\"OTHER\", inplace = True)"
   ]
  },
  {
   "cell_type": "code",
   "execution_count": 38,
   "id": "42c5da9b",
   "metadata": {},
   "outputs": [
    {
     "name": "stdout",
     "output_type": "stream",
     "text": [
      "   company_id                                            address  total_spend  \\\n",
      "0           1  APARTMENT 2,\\n52 BEDFORD ROAD,\\nLONDON,\\nENGLA...         5700   \n",
      "1           2           107 SHERINGHAM AVENUE,\\nLONDON,\\nN14 4UJ         4700   \n",
      "2           3  43 SUNNINGDALE,\\nYATE,\\nBRISTOL,\\nENGLAND,\\nBS...         5900   \n",
      "3           4  HAWESWATER HOUSE,\\nLINGLEY MERE BUSINESS PARK,...         7200   \n",
      "4           5  AMBERFIELD BARN HOUSE AMBER LANE,\\nCHART SUTTO...         4600   \n",
      "\n",
      "                                         new_address     city  \n",
      "0  APARTMENT 2,\\n52 BEDFORD ROAD,\\nLONDON,\\nENGLA...   LONDON  \n",
      "1           107 SHERINGHAM AVENUE,\\nLONDON,\\nN14 4UJ   LONDON  \n",
      "2  43 SUNNINGDALE,\\nYATE,\\nBRISTOL,\\nENGLAND,\\nBS...  BRISTOL  \n",
      "3  HAWESWATER HOUSE,\\nLINGLEY MERE BUSINESS PARK,...    OTHER  \n",
      "4  AMBERFIELD BARN HOUSE AMBER LANE,\\nCHART SUTTO...    OTHER  \n"
     ]
    }
   ],
   "source": [
    "print(dataframe.head())"
   ]
  },
  {
   "cell_type": "markdown",
   "id": "622b2e2a",
   "metadata": {},
   "source": [
    "## we filled  the null-city names in our data to be 'OTHER'  for further analysis"
   ]
  },
  {
   "cell_type": "code",
   "execution_count": 39,
   "id": "1f18ebd9",
   "metadata": {},
   "outputs": [
    {
     "data": {
      "text/plain": [
       "OTHER         54458\n",
       "LONDON        20762\n",
       "MANCHESTER     1902\n",
       "BIRMINGHAM     1866\n",
       "GLASGOW        1273\n",
       "Name: city, dtype: int64"
      ]
     },
     "execution_count": 39,
     "metadata": {},
     "output_type": "execute_result"
    }
   ],
   "source": [
    "dataframe[\"city\"].value_counts().head()"
   ]
  },
  {
   "cell_type": "markdown",
   "id": "82318ca6",
   "metadata": {},
   "source": [
    "# Insights:\n",
    "\n",
    "    1- High Frequency of \"OTHER\":\n",
    "        * \"OTHER\" appears 54,458 times, which is by far the most frequent city. This indicates that a significant portion of the data has been populated with the \"OTHER\" placeholder, possibly due to missing or unrecognized city values that were filled earlier using fillna(\"OTHER\").\n",
    "        \n",
    "        * This large number of \"OTHER\" values suggests a need to investigate why so many cities are missing and whether it's due to inconsistencies or errors in the data.\n",
    "\n",
    "    2- Major Cities (LONDON, MANCHESTER, BIRMINGHAM, GLASGOW):\n",
    "        * LONDON appears 20,762 times, which is the second most frequent city. It’s common for large cities like London to appear more frequently in datasets.\n",
    "        \n",
    "        * Other cities like MANCHESTER, BIRMINGHAM, and GLASGOW are also present but with fewer counts, which is expected as these cities are still major urban centers in the UK.\n",
    "\n",
    "    3- Data Quality Concerns:\n",
    "        The large proportion of OTHER entries suggests that there might be issues with missing or inconsistent city information. You might want to review how the city data was captured or consider investigating whether additional cleaning or data imputation techniques are necessary.\n",
    "\n",
    "    4- City Distribution:\n",
    "        From the counts, you can see the distribution of city data, which may be useful in understanding the geographical coverage of the dataset or identifying biases in the data (e.g., an overrepresentation of certain cities or underrepresentation of others)."
   ]
  },
  {
   "cell_type": "code",
   "execution_count": 71,
   "id": "0aa464d4",
   "metadata": {},
   "outputs": [
    {
     "data": {
      "text/plain": [
       "OTHER            54164\n",
       "LONDON           20762\n",
       "MANCHESTER        1902\n",
       "BIRMINGHAM        1866\n",
       "GLASGOW           1273\n",
       "BRISTOL           1150\n",
       "LEEDS             1040\n",
       "EDINBURGH         1038\n",
       "LEICESTER          905\n",
       "NOTTINGHAM         838\n",
       "LIVERPOOL          838\n",
       "CARDIFF            797\n",
       "SHEFFIELD          706\n",
       "COVENTRY           553\n",
       "MILTON KEYNES      493\n",
       "SOUTHAMPTON        477\n",
       "NORWICH            449\n",
       "BRADFORD           417\n",
       "BELFAST            416\n",
       "PRESTON            406\n",
       "Name: city, dtype: int64"
      ]
     },
     "execution_count": 71,
     "metadata": {},
     "output_type": "execute_result"
    }
   ],
   "source": [
    "# Display the count of the top 20 most frequent cities in the 'city' column\n",
    "dataframe[\"city\"].value_counts().head(20)"
   ]
  },
  {
   "cell_type": "markdown",
   "id": "ff145dc0",
   "metadata": {},
   "source": [
    "# Insights:\n",
    "\n",
    "    1- High Frequency of \"OTHER\":\n",
    "        \n",
    "        The value \"OTHER\" still represents the largest proportion of the data with 54,458 occurrences. This suggests that a significant portion of the data consists of missing or unknown city values that were previously filled with \"OTHER\".\n",
    "    \n",
    "    2- Top Major Cities (LONDON, MANCHESTER, BIRMINGHAM, GLASGOW):\n",
    "\n",
    "        * LONDON (20,762 occurrences) remains the most frequent city by far, followed by other large UK cities like MANCHESTER, BIRMINGHAM, and GLASGOW.\n",
    "    \n",
    "        * The large number of occurrences for these cities is expected due to their size and population density.\n",
    "        \n",
    "    3- Other Prominent Cities:\n",
    "\n",
    "        * Cities like BRISTOL, LEEDS, EDINBURGH, LEICESTER, and NOTTINGHAM also appear frequently in the data, which is typical for major urban centers in the UK. However, their counts are significantly lower than LONDON and MANCHESTER."
   ]
  },
  {
   "cell_type": "code",
   "execution_count": 73,
   "id": "20614338",
   "metadata": {},
   "outputs": [
    {
     "name": "stdout",
     "output_type": "stream",
     "text": [
      "{'KINGSTON-UPON-HULL'}\n"
     ]
    }
   ],
   "source": [
    "# get the cities found in 'cities' DataFrame and  not found in the 'dataframe' DataFrame\n",
    "Not_Included_Cities = set(cities[\"city\"]) - set(dataframe[\"city\"])  \n",
    "print(Not_Included_Cities)"
   ]
  },
  {
   "cell_type": "markdown",
   "id": "074acc8e",
   "metadata": {},
   "source": [
    "## The output will be a set containing the cities that are in the cities DataFrame but not in the dataframe's city column, to see if there is any city can we change it from OTHER to its real name.\n",
    "\n",
    "## we Found the city called 'KINGSTON-UPON-HULL' isn't found in our data in city column so we need to check if we can substitute it with its real name."
   ]
  },
  {
   "cell_type": "code",
   "execution_count": 74,
   "id": "52fd3714",
   "metadata": {},
   "outputs": [
    {
     "data": {
      "text/html": [
       "<div>\n",
       "<style scoped>\n",
       "    .dataframe tbody tr th:only-of-type {\n",
       "        vertical-align: middle;\n",
       "    }\n",
       "\n",
       "    .dataframe tbody tr th {\n",
       "        vertical-align: top;\n",
       "    }\n",
       "\n",
       "    .dataframe thead th {\n",
       "        text-align: right;\n",
       "    }\n",
       "</style>\n",
       "<table border=\"1\" class=\"dataframe\">\n",
       "  <thead>\n",
       "    <tr style=\"text-align: right;\">\n",
       "      <th></th>\n",
       "      <th>company_id</th>\n",
       "      <th>address</th>\n",
       "      <th>total_spend</th>\n",
       "      <th>new_address</th>\n",
       "      <th>city</th>\n",
       "    </tr>\n",
       "  </thead>\n",
       "  <tbody>\n",
       "    <tr>\n",
       "      <th>455</th>\n",
       "      <td>456</td>\n",
       "      <td>349 BEVERLEY ROAD,\\nANLABY,\\nHULL,\\nENGLAND,\\n...</td>\n",
       "      <td>3800</td>\n",
       "      <td>349 BEVERLEY ROAD,\\nANLABY,\\nHULL,\\nENGLAND,\\n...</td>\n",
       "      <td>HULL</td>\n",
       "    </tr>\n",
       "    <tr>\n",
       "      <th>1139</th>\n",
       "      <td>1140</td>\n",
       "      <td>90 CALVERT LANE,\\nHULL,\\nENGLAND,\\nHU4 6BJ</td>\n",
       "      <td>6000</td>\n",
       "      <td>90 CALVERT LANE,\\nHULL,\\nENGLAND,\\nHU4 6BJ</td>\n",
       "      <td>HULL</td>\n",
       "    </tr>\n",
       "    <tr>\n",
       "      <th>1822</th>\n",
       "      <td>1823</td>\n",
       "      <td>ACER GLADE BLACK TUP LANE,\\nARNOLD,\\nHULL,\\nEN...</td>\n",
       "      <td>4600</td>\n",
       "      <td>ACER GLADE BLACK TUP LANE,\\nARNOLD,\\nHULL,\\nEN...</td>\n",
       "      <td>HULL</td>\n",
       "    </tr>\n",
       "    <tr>\n",
       "      <th>1831</th>\n",
       "      <td>1832</td>\n",
       "      <td>10 GORDON STREET,\\nHULL,\\nENGLAND,\\nHU3 3HN</td>\n",
       "      <td>5300</td>\n",
       "      <td>10 GORDON STREET,\\nHULL,\\nENGLAND,\\nHU3 3HN</td>\n",
       "      <td>HULL</td>\n",
       "    </tr>\n",
       "    <tr>\n",
       "      <th>1921</th>\n",
       "      <td>1922</td>\n",
       "      <td>70 WRIGHT STREET,\\nHULL,\\nENGLAND,\\nHU2 8JD</td>\n",
       "      <td>6100</td>\n",
       "      <td>70 WRIGHT STREET,\\nHULL,\\nENGLAND,\\nHU2 8JD</td>\n",
       "      <td>HULL</td>\n",
       "    </tr>\n",
       "    <tr>\n",
       "      <th>...</th>\n",
       "      <td>...</td>\n",
       "      <td>...</td>\n",
       "      <td>...</td>\n",
       "      <td>...</td>\n",
       "      <td>...</td>\n",
       "    </tr>\n",
       "    <tr>\n",
       "      <th>98479</th>\n",
       "      <td>98480</td>\n",
       "      <td>31-38 QUEEN STREET,\\nHULL,\\nENGLAND,\\nHU1 1UU</td>\n",
       "      <td>4500</td>\n",
       "      <td>31-38 QUEEN STREET,\\nHULL,\\nENGLAND,\\nHU1 1UU</td>\n",
       "      <td>HULL</td>\n",
       "    </tr>\n",
       "    <tr>\n",
       "      <th>98886</th>\n",
       "      <td>98887</td>\n",
       "      <td>13 SALMON GROVE,\\nHULL,\\nEAST YORKSHIRE,\\nENGL...</td>\n",
       "      <td>5000</td>\n",
       "      <td>13 SALMON GROVE,\\nHULL,\\nEAST YORKSHIRE,\\nENGL...</td>\n",
       "      <td>HULL</td>\n",
       "    </tr>\n",
       "    <tr>\n",
       "      <th>99196</th>\n",
       "      <td>99197</td>\n",
       "      <td>22 19TH AVENUE,\\nHULL,\\nENGLAND,\\nHU6 8HF</td>\n",
       "      <td>5900</td>\n",
       "      <td>22 19TH AVENUE,\\nHULL,\\nENGLAND,\\nHU6 8HF</td>\n",
       "      <td>HULL</td>\n",
       "    </tr>\n",
       "    <tr>\n",
       "      <th>99434</th>\n",
       "      <td>99435</td>\n",
       "      <td>F14 THE BLOC SPRINGFIELD WAY,\\nANLABY,\\nHULL,\\...</td>\n",
       "      <td>3100</td>\n",
       "      <td>F14 THE BLOC SPRINGFIELD WAY,\\nANLABY,\\nHULL,\\...</td>\n",
       "      <td>HULL</td>\n",
       "    </tr>\n",
       "    <tr>\n",
       "      <th>99659</th>\n",
       "      <td>99660</td>\n",
       "      <td>273 ANLABY ROAD,\\nHULL,\\nEAST RIDING OF YORKSH...</td>\n",
       "      <td>6400</td>\n",
       "      <td>273 ANLABY ROAD,\\nHULL,\\nEAST RIDING OF YORKSH...</td>\n",
       "      <td>HULL</td>\n",
       "    </tr>\n",
       "  </tbody>\n",
       "</table>\n",
       "<p>296 rows × 5 columns</p>\n",
       "</div>"
      ],
      "text/plain": [
       "       company_id                                            address  \\\n",
       "455           456  349 BEVERLEY ROAD,\\nANLABY,\\nHULL,\\nENGLAND,\\n...   \n",
       "1139         1140         90 CALVERT LANE,\\nHULL,\\nENGLAND,\\nHU4 6BJ   \n",
       "1822         1823  ACER GLADE BLACK TUP LANE,\\nARNOLD,\\nHULL,\\nEN...   \n",
       "1831         1832        10 GORDON STREET,\\nHULL,\\nENGLAND,\\nHU3 3HN   \n",
       "1921         1922        70 WRIGHT STREET,\\nHULL,\\nENGLAND,\\nHU2 8JD   \n",
       "...           ...                                                ...   \n",
       "98479       98480      31-38 QUEEN STREET,\\nHULL,\\nENGLAND,\\nHU1 1UU   \n",
       "98886       98887  13 SALMON GROVE,\\nHULL,\\nEAST YORKSHIRE,\\nENGL...   \n",
       "99196       99197          22 19TH AVENUE,\\nHULL,\\nENGLAND,\\nHU6 8HF   \n",
       "99434       99435  F14 THE BLOC SPRINGFIELD WAY,\\nANLABY,\\nHULL,\\...   \n",
       "99659       99660  273 ANLABY ROAD,\\nHULL,\\nEAST RIDING OF YORKSH...   \n",
       "\n",
       "       total_spend                                        new_address  city  \n",
       "455           3800  349 BEVERLEY ROAD,\\nANLABY,\\nHULL,\\nENGLAND,\\n...  HULL  \n",
       "1139          6000         90 CALVERT LANE,\\nHULL,\\nENGLAND,\\nHU4 6BJ  HULL  \n",
       "1822          4600  ACER GLADE BLACK TUP LANE,\\nARNOLD,\\nHULL,\\nEN...  HULL  \n",
       "1831          5300        10 GORDON STREET,\\nHULL,\\nENGLAND,\\nHU3 3HN  HULL  \n",
       "1921          6100        70 WRIGHT STREET,\\nHULL,\\nENGLAND,\\nHU2 8JD  HULL  \n",
       "...            ...                                                ...   ...  \n",
       "98479         4500      31-38 QUEEN STREET,\\nHULL,\\nENGLAND,\\nHU1 1UU  HULL  \n",
       "98886         5000  13 SALMON GROVE,\\nHULL,\\nEAST YORKSHIRE,\\nENGL...  HULL  \n",
       "99196         5900          22 19TH AVENUE,\\nHULL,\\nENGLAND,\\nHU6 8HF  HULL  \n",
       "99434         3100  F14 THE BLOC SPRINGFIELD WAY,\\nANLABY,\\nHULL,\\...  HULL  \n",
       "99659         6400  273 ANLABY ROAD,\\nHULL,\\nEAST RIDING OF YORKSH...  HULL  \n",
       "\n",
       "[296 rows x 5 columns]"
      ]
     },
     "execution_count": 74,
     "metadata": {},
     "output_type": "execute_result"
    }
   ],
   "source": [
    "dataframe.loc[dataframe[\"new_address\"].str.contains(\"\\nHULL\")]"
   ]
  },
  {
   "cell_type": "markdown",
   "id": "c6f1903a",
   "metadata": {},
   "source": [
    "## The addresses contain the name \"HULL\" in a consistent format across multiple rows, which indicates a geographic concentration in the dataset. \n",
    "\n",
    "## Despite the presence of \"HULL\" in the address, the city column is filled with \"OTHER\"."
   ]
  },
  {
   "cell_type": "code",
   "execution_count": 75,
   "id": "12cff0af",
   "metadata": {},
   "outputs": [],
   "source": [
    "# Update the 'city' column to 'HULL' for rows where the 'new_address' contains the substring '\\nHULL'\n",
    "dataframe.loc[dataframe[\"new_address\"].str.contains(\"\\nHULL\"),\"city\"]=\"HULL\""
   ]
  },
  {
   "cell_type": "code",
   "execution_count": 76,
   "id": "a82e876d",
   "metadata": {},
   "outputs": [
    {
     "data": {
      "text/plain": [
       "OTHER            54164\n",
       "LONDON           20762\n",
       "MANCHESTER        1902\n",
       "BIRMINGHAM        1866\n",
       "GLASGOW           1273\n",
       "BRISTOL           1150\n",
       "LEEDS             1040\n",
       "EDINBURGH         1038\n",
       "LEICESTER          905\n",
       "NOTTINGHAM         838\n",
       "LIVERPOOL          838\n",
       "CARDIFF            797\n",
       "SHEFFIELD          706\n",
       "COVENTRY           553\n",
       "MILTON KEYNES      493\n",
       "SOUTHAMPTON        477\n",
       "NORWICH            449\n",
       "BRADFORD           417\n",
       "BELFAST            416\n",
       "PRESTON            405\n",
       "Name: city, dtype: int64"
      ]
     },
     "execution_count": 76,
     "metadata": {},
     "output_type": "execute_result"
    }
   ],
   "source": [
    "dataframe[\"city\"].value_counts().head(20)"
   ]
  },
  {
   "cell_type": "markdown",
   "id": "e4510cd2",
   "metadata": {},
   "source": [
    "## we found that the OTHER count is becomes lower than the previous steps after correcting HULL city and count it."
   ]
  },
  {
   "cell_type": "code",
   "execution_count": 81,
   "id": "d3f8dd6c",
   "metadata": {},
   "outputs": [],
   "source": [
    "# Group the dataframe by the 'city' column and calculate the sum of 'total_spend' for each city\n",
    "# Sort the cities by total spending in descending order\n",
    "# Select the top 20 cities based on the highest total spending \n",
    "Top_20_Cities = dataframe.groupby(\"city\")[\"total_spend\"].sum().sort_values(ascending=False).head(20)"
   ]
  },
  {
   "cell_type": "code",
   "execution_count": 82,
   "id": "b5354684",
   "metadata": {},
   "outputs": [
    {
     "name": "stdout",
     "output_type": "stream",
     "text": [
      "city\n",
      "OTHER            267806500\n",
      "LONDON           103042800\n",
      "MANCHESTER         9344200\n",
      "BIRMINGHAM         9317900\n",
      "GLASGOW            6293100\n",
      "BRISTOL            5730400\n",
      "LEEDS              5167100\n",
      "EDINBURGH          5089600\n",
      "LEICESTER          4431700\n",
      "NOTTINGHAM         4200200\n",
      "LIVERPOOL          4155300\n",
      "CARDIFF            3972600\n",
      "SHEFFIELD          3500900\n",
      "COVENTRY           2679000\n",
      "MILTON KEYNES      2484200\n",
      "SOUTHAMPTON        2376600\n",
      "NORWICH            2259000\n",
      "BRADFORD           2060700\n",
      "BELFAST            2059400\n",
      "PRESTON            2044900\n",
      "Name: total_spend, dtype: int64\n"
     ]
    }
   ],
   "source": [
    "print(Top_20_Cities)"
   ]
  },
  {
   "cell_type": "markdown",
   "id": "10fead36",
   "metadata": {},
   "source": [
    "## Insights:\n",
    "\n",
    "    1- \"OTHER\" Category:\n",
    "        \n",
    "        * The \"OTHER\" category has the highest total spending, amounting to 267,806,500. This indicates that many entries in the dataframe are categorized as \"OTHER,\" likely due to missing or unrecognized cities.\n",
    "\n",
    "    2- Top Cities by Total Spend:\n",
    "        \n",
    "        * After \"OTHER,\" the next top city is London, with total spending of 103,042,800, followed by Manchester at 9,344,200, and Birmingham at 9,317,900.\n",
    "        \n",
    "        * These are the major cities in the dataset, confirming their prominence in terms of total spending.\n",
    "\n",
    "    3- Spending Distribution:\n",
    "        \n",
    "        * The total spend decreases sharply after London, with the top cities having amounts ranging from several million down to the low hundreds of thousands for cities like Preston (2,044,900)."
   ]
  },
  {
   "cell_type": "code",
   "execution_count": 83,
   "id": "61f58b92",
   "metadata": {},
   "outputs": [
    {
     "data": {
      "image/png": "[encoded data removed]",
      "text/plain": [
       "<Figure size 432x288 with 1 Axes>"
      ]
     },
     "metadata": {
      "needs_background": "light"
     },
     "output_type": "display_data"
    }
   ],
   "source": [
    "# Plot a horizontal bar chart for the top 20 cities based on total spending\n",
    "Top_20_Cities.plot.barh()\n",
    "plt.title(\"Total customer spend by city\")\n",
    "plt.xlabel(\"Total spend\")\n",
    "plt.show()"
   ]
  },
  {
   "cell_type": "code",
   "execution_count": 87,
   "id": "a1e00f8c",
   "metadata": {},
   "outputs": [],
   "source": [
    "# get the bottom 20 cities with the lowest total spending\n",
    "Last_20_Cities = dataframe.groupby(\"city\")[\"total_spend\"].sum().sort_values(ascending=True).head(20)"
   ]
  },
  {
   "cell_type": "code",
   "execution_count": 88,
   "id": "050106fe",
   "metadata": {},
   "outputs": [
    {
     "name": "stdout",
     "output_type": "stream",
     "text": [
      "city\n",
      "ST DAVIDS                6300\n",
      "BRIGHTON & HOVE          7400\n",
      "NEWCASTLE-UPON-TYNE     10900\n",
      "ST ASAPH                34900\n",
      "WESTMINSTER             50000\n",
      "RIPON                  120100\n",
      "WELLS                  255700\n",
      "ARMAGH                 263400\n",
      "BANGOR                 292000\n",
      "LISBURN                292000\n",
      "STOKE ON TRENT         302600\n",
      "DUNFERMLINE            317100\n",
      "LANCASTER              324700\n",
      "STIRLING               325600\n",
      "INVERNESS              342200\n",
      "PERTH                  349500\n",
      "ELY                    354000\n",
      "LONDONDERRY            383700\n",
      "LICHFIELD              419000\n",
      "TRURO                  419300\n",
      "Name: total_spend, dtype: int64\n"
     ]
    }
   ],
   "source": [
    "print(Last_20_Cities)"
   ]
  },
  {
   "cell_type": "markdown",
   "id": "ce59d4b3",
   "metadata": {},
   "source": [
    "## Insights:\n",
    "\n",
    "    * \"ST DAVIDS\" appears to be the city with the least total spending (6,300), and \"TRURO\" has the highest total spending in this subset (419,300).\n",
    "    \n",
    "    * The cities listed in the output are a mix of smaller cities and towns, with some well-known cities like \"NEWCASTLE-UPON-TYNE\" and \"BRIGHTON & HOVE\" having relatively low total spending.\n",
    "    \n",
    "    * Now, we can identify cities with lower consumer spending in comparison to other locations"
   ]
  },
  {
   "cell_type": "code",
   "execution_count": 90,
   "id": "a50ff9b3",
   "metadata": {},
   "outputs": [
    {
     "data": {
      "image/png": "[encoded data removed]",
      "text/plain": [
       "<Figure size 432x288 with 1 Axes>"
      ]
     },
     "metadata": {
      "needs_background": "light"
     },
     "output_type": "display_data"
    }
   ],
   "source": [
    "# Plot a horizontal bar chart for the bottom 20 cities based on total spending\n",
    "Last_20_Cities.plot.barh()\n",
    "plt.title(\"Total customer spend by city\")\n",
    "plt.xlabel(\"Total spend\")\n",
    "plt.show()"
   ]
  },
  {
   "cell_type": "code",
   "execution_count": 100,
   "id": "3afb0a4c",
   "metadata": {},
   "outputs": [
    {
     "name": "stdout",
     "output_type": "stream",
     "text": [
      "Total spend customers inside London:\n",
      "103042800\n"
     ]
    }
   ],
   "source": [
    "# Print the total spending of customers inside London\n",
    "print(\"Total spend customers inside London:\")\n",
    "London_Total_Spending = dataframe.loc[dataframe[\"city\"] == \"LONDON\", \"total_spend\"].sum()\n",
    "print(London_Total_Spending)"
   ]
  },
  {
   "cell_type": "markdown",
   "id": "f3a627db",
   "metadata": {},
   "source": [
    "## London has a significantly high total spend of over 103 million units."
   ]
  },
  {
   "cell_type": "code",
   "execution_count": 101,
   "id": "d06e5b44",
   "metadata": {},
   "outputs": [
    {
     "name": "stdout",
     "output_type": "stream",
     "text": [
      "Total spend for All customers Outside London:\n",
      "387331300\n"
     ]
    }
   ],
   "source": [
    "# Print the total spending of customers outside London\n",
    "print(\"Total spend for All customers Outside London:\")\n",
    "Non_London_Total_Spending = dataframe.loc[dataframe[\"city\"] != \"LONDON\", \"total_spend\"].sum()\n",
    "print(Non_London_Total_Spending)"
   ]
  },
  {
   "cell_type": "markdown",
   "id": "8108af4f",
   "metadata": {},
   "source": [
    "## All Other cities having total spend of over 387 million units."
   ]
  },
  {
   "cell_type": "code",
   "execution_count": 102,
   "id": "61fb119b",
   "metadata": {},
   "outputs": [
    {
     "name": "stdout",
     "output_type": "stream",
     "text": [
      "Total spend for All customers not found in London and OTHER:\n",
      "119524800\n"
     ]
    }
   ],
   "source": [
    "# Print the total spending of customers outside London excluding OTHER in city column.\n",
    "print(\"Total spend for All customers not found in London and OTHER:\")\n",
    "Non_London_Total_Spending_OTHER =dataframe.loc[(dataframe[\"city\"].isin([\"LONDON\", \"OTHER\"])) == False, \"total_spend\"].sum()\n",
    "print(Non_London_Total_Spending_OTHER)"
   ]
  },
  {
   "cell_type": "markdown",
   "id": "fd3faa52",
   "metadata": {},
   "source": [
    "## All Other cities(excluding OTHER) having total spend of over 119 million units."
   ]
  },
  {
   "cell_type": "code",
   "execution_count": 138,
   "id": "bf45b82b",
   "metadata": {},
   "outputs": [
    {
     "name": "stdout",
     "output_type": "stream",
     "text": [
      "The total spend for All customers in all cities is:\n",
      "490374100\n",
      "The percent of Total spend for All customers found in London: \n",
      "21.013099998552125\n",
      "The percent of Total spend for All customers not found in London: \n",
      "78.98690000144788\n",
      "The percent of Total spend for All customers not found in London and OTHER: \n",
      "24.37420736535637\n",
      "The percent of Underserved city to Total spend for All customers: \n",
      "0.0012847334310682396\n",
      "The percent of most served city to Total spend for All customers: \n",
      "21.013099998552125\n"
     ]
    }
   ],
   "source": [
    "Total_Spending = dataframe[\"total_spend\"].sum()\n",
    "print(\"The total spend for All customers in all cities is:\")\n",
    "print(Total_Spending)\n",
    "print(\"The percent of Total spend for All customers found in London: \")\n",
    "London_Percent = (London_Total_Spending/Total_Spending)*100\n",
    "print(London_Percent)\n",
    "print(\"The percent of Total spend for All customers not found in London: \")\n",
    "Non_London_Percent = (Non_London_Total_Spending/Total_Spending)*100\n",
    "print(Non_London_Percent)\n",
    "print(\"The percent of Total spend for All customers not found in London and OTHER: \")\n",
    "Non_London_excluding_Other_Percent = (Non_London_Total_Spending_OTHER/Total_Spending)*100\n",
    "print(Non_London_excluding_Other_Percent)"
   ]
  },
  {
   "cell_type": "code",
   "execution_count": 121,
   "id": "1799592f",
   "metadata": {},
   "outputs": [
    {
     "data": {
      "image/png": "[encoded data removed]",
      "text/plain": [
       "<Figure size 432x288 with 1 Axes>"
      ]
     },
     "metadata": {
      "needs_background": "light"
     },
     "output_type": "display_data"
    }
   ],
   "source": [
    "# Data for plotting\n",
    "categories = ['London', 'Non-London', 'Non-London(excluding Other)']\n",
    "percentages = [London_Percent, Non_London_Percent, Non_London_Other_Percent]\n",
    "\n",
    "plt.bar(categories, percentages, color=['blue', 'green', 'orange'])\n",
    "plt.title(\"Percent of Total Spending by Category\")\n",
    "plt.xlabel(\"Category\")\n",
    "plt.ylabel(\"Percentage of Total Spend (%)\")\n",
    "\n",
    "plt.show()"
   ]
  },
  {
   "cell_type": "code",
   "execution_count": 132,
   "id": "ff60b037",
   "metadata": {},
   "outputs": [
    {
     "name": "stdout",
     "output_type": "stream",
     "text": [
      "the percent of london to all other non-London Cities 'including OTHER':  26.603272185852262\n",
      "the percent of london to all other non-London Cities 'excluding OTHER':  86.21039315690132\n"
     ]
    }
   ],
   "source": [
    "LONDON_PERCENTAGE_INCLUDE_OTHER = (London_Percent/Non_London_Percent)*100\n",
    "print(\"the percent of london to all other non-London Cities 'including OTHER': \", LONDON_PERCENTAGE_INCLUDE_OTHER)\n",
    "LONDON_PERCENTAGE_EXCLUDE_OTHER = (London_Percent/Non_London_excluding_Other_Percent)*100\n",
    "print(\"the percent of london to all other non-London Cities 'excluding OTHER': \", LONDON_PERCENTAGE_EXCLUDE_OTHER)"
   ]
  },
  {
   "cell_type": "code",
   "execution_count": 133,
   "id": "56128aa2",
   "metadata": {},
   "outputs": [
    {
     "data": {
      "image/png": "[encoded data removed]",
      "text/plain": [
       "<Figure size 432x288 with 1 Axes>"
      ]
     },
     "metadata": {
      "needs_background": "light"
     },
     "output_type": "display_data"
    }
   ],
   "source": [
    "# Data for plotting\n",
    "categories = ['Non-London(including Other)', 'Non-London(excluding Other)']\n",
    "percentages = [LONDON_PERCENTAGE_INCLUDE_OTHER, LONDON_PERCENTAGE_EXCLUDE_OTHER]\n",
    "\n",
    "plt.bar(categories, percentages, color=['blue', 'orange'])\n",
    "plt.title(\"Percent of LONDON Total Spending to OTHER cities\")\n",
    "plt.xlabel(\"PERCENT\")\n",
    "plt.ylabel(\"Percentage of Total Spend (%)\")\n",
    "\n",
    "plt.show()"
   ]
  },
  {
   "cell_type": "markdown",
   "id": "da09a41f",
   "metadata": {},
   "source": [
    "## Insights:\n",
    "\n",
    "    1- London vs. All Other Non-London Cities (Including \"OTHER\"):\n",
    "\n",
    "        * The value of 26.6% suggests that when considering all non-London cities, including those categorized as \"OTHER,\" London's total spending is around 26.6% of the total non-London spending.\n",
    "    \n",
    "        * This indicates that London's share of spending is significant, but there is still a large portion of spending happening in other cities and regions (including those that are grouped as \"OTHER\").\n",
    "    \n",
    "        * The \"OTHER\" category likely includes smaller cities or locations with substantial spending that, when combined with other cities, contributes to a larger total, somewhat diluting London’s dominance.\n",
    "\n",
    "    2- London vs. Non-London Cities (Excluding \"OTHER\"):\n",
    "\n",
    "        * The value of 86.2% indicates that when we exclude the \"OTHER\" category, London’s share of the total spending is much higher in comparison to the remaining non-London cities.\n",
    "    \n",
    "        * This means that when you consider only the larger, more recognizable cities (excluding smaller regions categorized as \"OTHER\"), London accounts for a much larger portion of total spending (about 86.2% of the combined non-London spending).\n",
    "        \n",
    "## This highlights the dominance of London in terms of spending when \"OTHER\" is excluded, suggesting that the bigger, more established cities (e.g., Manchester, Birmingham) have relatively less total spending compared to London."
   ]
  },
  {
   "cell_type": "code",
   "execution_count": 140,
   "id": "86818336",
   "metadata": {},
   "outputs": [
    {
     "name": "stdout",
     "output_type": "stream",
     "text": [
      "The percent of Underserved city to Total spend for All customers: \n",
      "0.0012847334310682396\n",
      "\n",
      "\n",
      "\n",
      "\n",
      "\n",
      "The percent of most served city to Total spend for All customers: \n",
      "21.013099998552125\n"
     ]
    }
   ],
   "source": [
    "print(\"The percent of Underserved city to Total spend for All customers: \")\n",
    "Underserved_city_percent = (Last_20_Cities[0]/Total_Spending)*100\n",
    "print(Underserved_city_percent)\n",
    "print(\"\\n\\n\\n\\n\")\n",
    "print(\"The percent of most served city to Total spend for All customers: \")\n",
    "mostserved_city_percent = (Top_20_Cities[1]/Total_Spending)*100\n",
    "print(mostserved_city_percent)"
   ]
  },
  {
   "cell_type": "code",
   "execution_count": 154,
   "id": "a68a38ec",
   "metadata": {},
   "outputs": [
    {
     "data": {
      "image/png": "[encoded data removed]",
      "text/plain": [
       "<Figure size 432x288 with 1 Axes>"
      ]
     },
     "metadata": {
      "needs_background": "light"
     },
     "output_type": "display_data"
    }
   ],
   "source": [
    "cities = ['Underserved City', 'Most Served City']\n",
    "percentages = [Underserved_city_percent, mostserved_city_percent]\n",
    "\n",
    "plt.barh(cities, percentages)\n",
    "plt.xlabel('Percentage of Total Spend (%)')\n",
    "plt.title('Percentage of Total Spend for Underserved vs Most Served City')\n",
    "plt.show()"
   ]
  },
  {
   "cell_type": "markdown",
   "id": "0123352a",
   "metadata": {},
   "source": [
    "# Conclusion\n",
    "\n",
    "## 1- Which UK cities are currently underserved?\n",
    "\n",
    "   ### Underserved cities: \n",
    "        \n",
    "   ##### The cities listed above are relatively small in terms of total spending, with St Davids having the lowest spend and Truro and Lichfield at the higher end of this group.\n",
    "\n",
    "\n",
    "## 2- Are their customers primarily London-based?\n",
    "\n",
    "   ### Customers primarily from London: \n",
    "    \n",
    "   ##### These underserved cities contribute very little to the total spend compared to London. It indicates that the customers from these cities are not primarily from London."
   ]
  }
 ],
 "metadata": {
  "kernelspec": {
   "display_name": "Python 3 (ipykernel)",
   "language": "python",
   "name": "python3"
  },
  "language_info": {
   "codemirror_mode": {
    "name": "ipython",
    "version": 3
   },
   "file_extension": ".py",
   "mimetype": "text/x-python",
   "name": "python",
   "nbconvert_exporter": "python",
   "pygments_lexer": "ipython3",
   "version": "3.9.7"
  }
 },
 "nbformat": 4,
 "nbformat_minor": 5
}
